{
 "cells": [
  {
   "cell_type": "markdown",
   "metadata": {
    "id": "zY3YPBYwN36b"
   },
   "source": [
    "# HW 1: Getting to know Python's Pandas and Matplotlib libraries\n",
    "\n",
    "Student name: Fiona Fang"
   ]
  },
  {
   "cell_type": "markdown",
   "metadata": {
    "id": "SWEAbxaEOHpv"
   },
   "source": [
    "# Part A:\n"
   ]
  },
  {
   "cell_type": "markdown",
   "metadata": {
    "id": "gGovMAR3PLET"
   },
   "source": [
    "## 1. Find the url for the mtcars dataset\n"
   ]
  },
  {
   "cell_type": "code",
   "execution_count": 1,
   "metadata": {
    "id": "sHNaRcGwqw8e"
   },
   "outputs": [],
   "source": [
    "#Import Python Libraries\n",
    "import numpy as np\n",
    "import scipy as sp\n",
    "import pandas as pd\n",
    "import matplotlib as mpl\n",
    "import seaborn as sns\n"
   ]
  },
  {
   "cell_type": "code",
   "execution_count": 2,
   "metadata": {
    "id": "MhMcKpRTqzI-"
   },
   "outputs": [],
   "source": [
    "#Read csv file\n",
    "df = pd.read_csv(\"https://vincentarelbundock.github.io/Rdatasets/csv/datasets/mtcars.csv\")\n"
   ]
  },
  {
   "cell_type": "markdown",
   "metadata": {
    "id": "ab2MfuGxPFBD"
   },
   "source": [
    "## 2. Display the first five rows of the data"
   ]
  },
  {
   "cell_type": "code",
   "execution_count": 3,
   "metadata": {
    "colab": {
     "base_uri": "https://localhost:8080/",
     "height": 206
    },
    "id": "24lc9RwMqrwn",
    "outputId": "83898af2-aef9-4847-8771-9d8c2e19c20e"
   },
   "outputs": [
    {
     "data": {
      "text/html": [
       "<div>\n",
       "<style scoped>\n",
       "    .dataframe tbody tr th:only-of-type {\n",
       "        vertical-align: middle;\n",
       "    }\n",
       "\n",
       "    .dataframe tbody tr th {\n",
       "        vertical-align: top;\n",
       "    }\n",
       "\n",
       "    .dataframe thead th {\n",
       "        text-align: right;\n",
       "    }\n",
       "</style>\n",
       "<table border=\"1\" class=\"dataframe\">\n",
       "  <thead>\n",
       "    <tr style=\"text-align: right;\">\n",
       "      <th></th>\n",
       "      <th>rownames</th>\n",
       "      <th>mpg</th>\n",
       "      <th>cyl</th>\n",
       "      <th>disp</th>\n",
       "      <th>hp</th>\n",
       "      <th>drat</th>\n",
       "      <th>wt</th>\n",
       "      <th>qsec</th>\n",
       "      <th>vs</th>\n",
       "      <th>am</th>\n",
       "      <th>gear</th>\n",
       "      <th>carb</th>\n",
       "    </tr>\n",
       "  </thead>\n",
       "  <tbody>\n",
       "    <tr>\n",
       "      <th>0</th>\n",
       "      <td>Mazda RX4</td>\n",
       "      <td>21.0</td>\n",
       "      <td>6</td>\n",
       "      <td>160.0</td>\n",
       "      <td>110</td>\n",
       "      <td>3.90</td>\n",
       "      <td>2.620</td>\n",
       "      <td>16.46</td>\n",
       "      <td>0</td>\n",
       "      <td>1</td>\n",
       "      <td>4</td>\n",
       "      <td>4</td>\n",
       "    </tr>\n",
       "    <tr>\n",
       "      <th>1</th>\n",
       "      <td>Mazda RX4 Wag</td>\n",
       "      <td>21.0</td>\n",
       "      <td>6</td>\n",
       "      <td>160.0</td>\n",
       "      <td>110</td>\n",
       "      <td>3.90</td>\n",
       "      <td>2.875</td>\n",
       "      <td>17.02</td>\n",
       "      <td>0</td>\n",
       "      <td>1</td>\n",
       "      <td>4</td>\n",
       "      <td>4</td>\n",
       "    </tr>\n",
       "    <tr>\n",
       "      <th>2</th>\n",
       "      <td>Datsun 710</td>\n",
       "      <td>22.8</td>\n",
       "      <td>4</td>\n",
       "      <td>108.0</td>\n",
       "      <td>93</td>\n",
       "      <td>3.85</td>\n",
       "      <td>2.320</td>\n",
       "      <td>18.61</td>\n",
       "      <td>1</td>\n",
       "      <td>1</td>\n",
       "      <td>4</td>\n",
       "      <td>1</td>\n",
       "    </tr>\n",
       "    <tr>\n",
       "      <th>3</th>\n",
       "      <td>Hornet 4 Drive</td>\n",
       "      <td>21.4</td>\n",
       "      <td>6</td>\n",
       "      <td>258.0</td>\n",
       "      <td>110</td>\n",
       "      <td>3.08</td>\n",
       "      <td>3.215</td>\n",
       "      <td>19.44</td>\n",
       "      <td>1</td>\n",
       "      <td>0</td>\n",
       "      <td>3</td>\n",
       "      <td>1</td>\n",
       "    </tr>\n",
       "    <tr>\n",
       "      <th>4</th>\n",
       "      <td>Hornet Sportabout</td>\n",
       "      <td>18.7</td>\n",
       "      <td>8</td>\n",
       "      <td>360.0</td>\n",
       "      <td>175</td>\n",
       "      <td>3.15</td>\n",
       "      <td>3.440</td>\n",
       "      <td>17.02</td>\n",
       "      <td>0</td>\n",
       "      <td>0</td>\n",
       "      <td>3</td>\n",
       "      <td>2</td>\n",
       "    </tr>\n",
       "  </tbody>\n",
       "</table>\n",
       "</div>"
      ],
      "text/plain": [
       "            rownames   mpg  cyl   disp   hp  drat     wt   qsec  vs  am  gear  \\\n",
       "0          Mazda RX4  21.0    6  160.0  110  3.90  2.620  16.46   0   1     4   \n",
       "1      Mazda RX4 Wag  21.0    6  160.0  110  3.90  2.875  17.02   0   1     4   \n",
       "2         Datsun 710  22.8    4  108.0   93  3.85  2.320  18.61   1   1     4   \n",
       "3     Hornet 4 Drive  21.4    6  258.0  110  3.08  3.215  19.44   1   0     3   \n",
       "4  Hornet Sportabout  18.7    8  360.0  175  3.15  3.440  17.02   0   0     3   \n",
       "\n",
       "   carb  \n",
       "0     4  \n",
       "1     4  \n",
       "2     1  \n",
       "3     1  \n",
       "4     2  "
      ]
     },
     "execution_count": 3,
     "metadata": {},
     "output_type": "execute_result"
    }
   ],
   "source": [
    "# List first 5 records\n",
    "df.head(5)\n"
   ]
  },
  {
   "cell_type": "markdown",
   "metadata": {
    "id": "DLquakDsPkyJ"
   },
   "source": [
    "## 3. Calculate the average of the mpg column for all cars within each category of the cyl column"
   ]
  },
  {
   "cell_type": "code",
   "execution_count": 4,
   "metadata": {
    "colab": {
     "base_uri": "https://localhost:8080/",
     "height": 175
    },
    "id": "mAEf3gcpqry0",
    "outputId": "fd0d9496-5338-4285-f1f2-170c8ccd289a"
   },
   "outputs": [
    {
     "data": {
      "text/html": [
       "<div>\n",
       "<style scoped>\n",
       "    .dataframe tbody tr th:only-of-type {\n",
       "        vertical-align: middle;\n",
       "    }\n",
       "\n",
       "    .dataframe tbody tr th {\n",
       "        vertical-align: top;\n",
       "    }\n",
       "\n",
       "    .dataframe thead th {\n",
       "        text-align: right;\n",
       "    }\n",
       "</style>\n",
       "<table border=\"1\" class=\"dataframe\">\n",
       "  <thead>\n",
       "    <tr style=\"text-align: right;\">\n",
       "      <th></th>\n",
       "      <th>mpg</th>\n",
       "    </tr>\n",
       "    <tr>\n",
       "      <th>cyl</th>\n",
       "      <th></th>\n",
       "    </tr>\n",
       "  </thead>\n",
       "  <tbody>\n",
       "    <tr>\n",
       "      <th>4</th>\n",
       "      <td>26.663636</td>\n",
       "    </tr>\n",
       "    <tr>\n",
       "      <th>6</th>\n",
       "      <td>19.742857</td>\n",
       "    </tr>\n",
       "    <tr>\n",
       "      <th>8</th>\n",
       "      <td>15.100000</td>\n",
       "    </tr>\n",
       "  </tbody>\n",
       "</table>\n",
       "</div>"
      ],
      "text/plain": [
       "           mpg\n",
       "cyl           \n",
       "4    26.663636\n",
       "6    19.742857\n",
       "8    15.100000"
      ]
     },
     "execution_count": 4,
     "metadata": {},
     "output_type": "execute_result"
    }
   ],
   "source": [
    "# Calculate the mean of the mpg for each cyl column\n",
    "df.groupby('cyl')[['mpg']].mean()\n"
   ]
  },
  {
   "cell_type": "markdown",
   "metadata": {
    "id": "HrzEiMdoREAZ"
   },
   "source": [
    "## 4. Create a histogram using the mpg column"
   ]
  },
  {
   "cell_type": "code",
   "execution_count": 5,
   "metadata": {
    "colab": {
     "base_uri": "https://localhost:8080/",
     "height": 467
    },
    "id": "zUklg6BMqr5l",
    "outputId": "78cc194d-6f85-4718-9bc7-469a4e0ddfed"
   },
   "outputs": [
    {
     "data": {
      "text/plain": [
       "Text(0, 0.5, 'Count')"
      ]
     },
     "execution_count": 5,
     "metadata": {},
     "output_type": "execute_result"
    },
    {
     "data": {
      "image/png": "[encoded data removed]",
      "text/plain": [
       "<Figure size 640x480 with 1 Axes>"
      ]
     },
     "metadata": {},
     "output_type": "display_data"
    }
   ],
   "source": [
    "# Create a histogram using the mpg column\n",
    "from matplotlib import pyplot as plt\n",
    "\n",
    "df['mpg'].hist()\n",
    "plt.xlabel('Miles per (US) Gallon')\n",
    "plt.ylabel('Count')\n"
   ]
  },
  {
   "cell_type": "markdown",
   "metadata": {
    "id": "uftEPDPpR-Al"
   },
   "source": [
    "## 5. Choose two variables in the data and create a scatterplot"
   ]
  },
  {
   "cell_type": "code",
   "execution_count": 6,
   "metadata": {
    "colab": {
     "base_uri": "https://localhost:8080/",
     "height": 490
    },
    "id": "Yrkv3LmGqr99",
    "outputId": "6dc938ea-8012-4b94-98cb-d03ab25cd9b0"
   },
   "outputs": [
    {
     "data": {
      "text/plain": [
       "Text(0, 0.5, 'Miles per (US) gallon')"
      ]
     },
     "execution_count": 6,
     "metadata": {},
     "output_type": "execute_result"
    },
    {
     "data": {
      "image/png": "[encoded data removed]",
      "text/plain": [
       "<Figure size 640x480 with 1 Axes>"
      ]
     },
     "metadata": {},
     "output_type": "display_data"
    }
   ],
   "source": [
    "# Create a scatterplots using mpg and wt columns\n",
    "plt.scatter(df['wt'], df['mpg'])\n",
    "plt.title(\"Miles per Gallon and Car Weight\")\n",
    "plt.xlabel(\"Weight of cars (1000 lbs)\")\n",
    "plt.ylabel(\"Miles per (US) gallon\")\n"
   ]
  },
  {
   "cell_type": "markdown",
   "metadata": {
    "id": "LENcWVlcXTRh"
   },
   "source": [
    "# Part B:"
   ]
  },
  {
   "cell_type": "markdown",
   "metadata": {
    "id": "2IoWShLTXWWK"
   },
   "source": [
    "## 1. Find a tabular dataset that interests you that has \"tidy\" data"
   ]
  },
  {
   "cell_type": "markdown",
   "metadata": {
    "id": "-uqvA97_BuI8"
   },
   "source": [
    "The Gapminder dataset contains statistics and other information about social, economic and environmental development for 193 countries. This dataset encompasses various key variables, including:\n",
    "\n",
    "- country: The name of the country\n",
    "- region: Categorized into Africa, Americas, Asia, or Europe\n",
    "- income: Income per person based on the gross domestic product per person, adjusted for differences in purchasing power (in international dollars, fixed for 2017 prices)\n",
    "- income_level: The world is divided into four income levels. Level 1 represents individuals living in extreme poverty, earning less than 2 dollars per day. At Level 2, individuals earn between 2 and 8 dollars per day. Level 3 includes those living on incomes ranging from 8 to 32 dollars per day, while Level 4 comprises individuals earning more than 32 dollars daily\n",
    "- life_exp: Life expectancy for a given country in a given year\n",
    "- co2: Carbon dioxide emissions per person from the burning of fossil fuels (metric tonnes of CO2 per person)\n",
    "- co2_change: Indicator of whether the carbon dioxide emissions per person from the burning of fossil fuels has increased or decreased since 2007 (10 year span)\n",
    "- population: Population of the country, in millions"
   ]
  },
  {
   "cell_type": "markdown",
   "metadata": {
    "id": "zDrb-k4FHpP9"
   },
   "source": [
    "Citation:\n",
    "\n",
    "Zieffler, A. (2022). GAPMINDER. Github. https://zief0002.github.io/miniature-garbanzo/codebooks/gapminder.html\n"
   ]
  },
  {
   "cell_type": "code",
   "execution_count": 7,
   "metadata": {
    "id": "T1oDnydFUQsv"
   },
   "outputs": [],
   "source": [
    "# Read csv file\n",
    "df2 = pd.read_csv(\"https://raw.githubusercontent.com/zief0002/miniature-garbanzo/main/data/gapminder.csv\")\n"
   ]
  },
  {
   "cell_type": "markdown",
   "metadata": {
    "id": "uOIEh3lRXPtc"
   },
   "source": [
    "## 2. Display the first five rows of the data"
   ]
  },
  {
   "cell_type": "code",
   "execution_count": 8,
   "metadata": {
    "colab": {
     "base_uri": "https://localhost:8080/",
     "height": 206
    },
    "id": "yDHbrASbXHwE",
    "outputId": "d4f9095d-77a9-4fe5-afb2-9bf1599de5ce"
   },
   "outputs": [
    {
     "data": {
      "text/html": [
       "<div>\n",
       "<style scoped>\n",
       "    .dataframe tbody tr th:only-of-type {\n",
       "        vertical-align: middle;\n",
       "    }\n",
       "\n",
       "    .dataframe tbody tr th {\n",
       "        vertical-align: top;\n",
       "    }\n",
       "\n",
       "    .dataframe thead th {\n",
       "        text-align: right;\n",
       "    }\n",
       "</style>\n",
       "<table border=\"1\" class=\"dataframe\">\n",
       "  <thead>\n",
       "    <tr style=\"text-align: right;\">\n",
       "      <th></th>\n",
       "      <th>country</th>\n",
       "      <th>region</th>\n",
       "      <th>income</th>\n",
       "      <th>income_level</th>\n",
       "      <th>life_exp</th>\n",
       "      <th>co2</th>\n",
       "      <th>co2_change</th>\n",
       "      <th>population</th>\n",
       "    </tr>\n",
       "  </thead>\n",
       "  <tbody>\n",
       "    <tr>\n",
       "      <th>0</th>\n",
       "      <td>Afghanistan</td>\n",
       "      <td>Asia</td>\n",
       "      <td>2.03</td>\n",
       "      <td>Level 1</td>\n",
       "      <td>62.7</td>\n",
       "      <td>0.254</td>\n",
       "      <td>increase</td>\n",
       "      <td>37.200</td>\n",
       "    </tr>\n",
       "    <tr>\n",
       "      <th>1</th>\n",
       "      <td>Albania</td>\n",
       "      <td>Europe</td>\n",
       "      <td>13.30</td>\n",
       "      <td>Level 3</td>\n",
       "      <td>78.4</td>\n",
       "      <td>1.590</td>\n",
       "      <td>increase</td>\n",
       "      <td>2.880</td>\n",
       "    </tr>\n",
       "    <tr>\n",
       "      <th>2</th>\n",
       "      <td>Algeria</td>\n",
       "      <td>Africa</td>\n",
       "      <td>11.60</td>\n",
       "      <td>Level 3</td>\n",
       "      <td>76.0</td>\n",
       "      <td>3.690</td>\n",
       "      <td>increase</td>\n",
       "      <td>42.200</td>\n",
       "    </tr>\n",
       "    <tr>\n",
       "      <th>3</th>\n",
       "      <td>Andorra</td>\n",
       "      <td>Europe</td>\n",
       "      <td>58.30</td>\n",
       "      <td>Level 4</td>\n",
       "      <td>82.1</td>\n",
       "      <td>6.120</td>\n",
       "      <td>decrease</td>\n",
       "      <td>0.077</td>\n",
       "    </tr>\n",
       "    <tr>\n",
       "      <th>4</th>\n",
       "      <td>Angola</td>\n",
       "      <td>Africa</td>\n",
       "      <td>6.93</td>\n",
       "      <td>Level 2</td>\n",
       "      <td>64.6</td>\n",
       "      <td>1.120</td>\n",
       "      <td>decrease</td>\n",
       "      <td>30.800</td>\n",
       "    </tr>\n",
       "  </tbody>\n",
       "</table>\n",
       "</div>"
      ],
      "text/plain": [
       "       country  region  income income_level  life_exp    co2 co2_change  \\\n",
       "0  Afghanistan    Asia    2.03      Level 1      62.7  0.254   increase   \n",
       "1      Albania  Europe   13.30      Level 3      78.4  1.590   increase   \n",
       "2      Algeria  Africa   11.60      Level 3      76.0  3.690   increase   \n",
       "3      Andorra  Europe   58.30      Level 4      82.1  6.120   decrease   \n",
       "4       Angola  Africa    6.93      Level 2      64.6  1.120   decrease   \n",
       "\n",
       "   population  \n",
       "0      37.200  \n",
       "1       2.880  \n",
       "2      42.200  \n",
       "3       0.077  \n",
       "4      30.800  "
      ]
     },
     "execution_count": 8,
     "metadata": {},
     "output_type": "execute_result"
    }
   ],
   "source": [
    "# List first 5 records\n",
    "df2.head(5)"
   ]
  },
  {
   "cell_type": "markdown",
   "metadata": {
    "id": "Zyk_ZvY8JQT2"
   },
   "source": [
    "## 3. Create a visualization using one (or two) variables from this data"
   ]
  },
  {
   "cell_type": "code",
   "execution_count": 9,
   "metadata": {
    "colab": {
     "base_uri": "https://localhost:8080/",
     "height": 467
    },
    "id": "BSJ0j04EEO8p",
    "outputId": "949b54ef-d06f-4dba-cb79-1a768d6f9cb8"
   },
   "outputs": [
    {
     "data": {
      "text/plain": [
       "Text(0, 0.5, 'Count')"
      ]
     },
     "execution_count": 9,
     "metadata": {},
     "output_type": "execute_result"
    },
    {
     "data": {
      "image/png": "[encoded data removed]",
      "text/plain": [
       "<Figure size 640x480 with 1 Axes>"
      ]
     },
     "metadata": {},
     "output_type": "display_data"
    }
   ],
   "source": [
    "# Create a histogram using the income_level column\n",
    "df2['income_level'].hist()\n",
    "plt.xlabel('Income Levels')\n",
    "plt.ylabel('Count')\n"
   ]
  },
  {
   "cell_type": "code",
   "execution_count": 10,
   "metadata": {
    "colab": {
     "base_uri": "https://localhost:8080/",
     "height": 490
    },
    "id": "svPRX6c2JRyl",
    "outputId": "51a31cdc-24c6-4e8f-d954-54d3128d363f"
   },
   "outputs": [
    {
     "data": {
      "text/plain": [
       "Text(0, 0.5, 'Life expectancy')"
      ]
     },
     "execution_count": 10,
     "metadata": {},
     "output_type": "execute_result"
    },
    {
     "data": {
      "image/png": "[encoded data removed]",
      "text/plain": [
       "<Figure size 640x480 with 1 Axes>"
      ]
     },
     "metadata": {},
     "output_type": "display_data"
    }
   ],
   "source": [
    "# Create a scatterplots\n",
    "plt.scatter(df2['income'], df2['life_exp'])\n",
    "plt.title(\"Income and Life Expectancy\")\n",
    "plt.xlabel(\"Income\")\n",
    "plt.ylabel(\"Life expectancy\")\n"
   ]
  },
  {
   "cell_type": "code",
   "execution_count": null,
   "metadata": {},
   "outputs": [],
   "source": []
  },
  {
   "cell_type": "markdown",
   "metadata": {},
   "source": [
    "# well done"
   ]
  }
 ],
 "metadata": {
  "colab": {
   "provenance": [],
   "toc_visible": true
  },
  "kernelspec": {
   "display_name": "Python 3 (ipykernel)",
   "language": "python",
   "name": "python3"
  },
  "language_info": {
   "codemirror_mode": {
    "name": "ipython",
    "version": 3
   },
   "file_extension": ".py",
   "mimetype": "text/x-python",
   "name": "python",
   "nbconvert_exporter": "python",
   "pygments_lexer": "ipython3",
   "version": "3.11.4"
  }
 },
 "nbformat": 4,
 "nbformat_minor": 1
}
