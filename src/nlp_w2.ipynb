{
 "cells": [
  {
   "cell_type": "markdown",
   "metadata": {},
   "source": []
  },
  {
   "cell_type": "code",
   "execution_count": 14,
   "metadata": {},
   "outputs": [],
   "source": [
    "test_str = \"the cat in  the hat$%^&*()12_+ known as the cat in the hat\""
   ]
  },
  {
   "cell_type": "code",
   "execution_count": 15,
   "metadata": {},
   "outputs": [],
   "source": [
    "import re"
   ]
  },
  {
   "cell_type": "code",
   "execution_count": 16,
   "metadata": {},
   "outputs": [
    {
     "name": "stdout",
     "output_type": "stream",
     "text": [
      "the cat in  the hat$%^&*()12_+ known as the cat in the hat\n"
     ]
    }
   ],
   "source": [
    "print(test_str)"
   ]
  },
  {
   "cell_type": "code",
   "execution_count": 23,
   "metadata": {},
   "outputs": [
    {
     "name": "stdout",
     "output_type": "stream",
     "text": [
      "the cat in the hat ^ _ known as the cat in the hat\n"
     ]
    }
   ],
   "source": [
    "test_str_fix = re.sub(\"[^A-z!!]+\", \" \", test_str).strip()\n",
    "print(test_str_fix)"
   ]
  },
  {
   "cell_type": "code",
   "execution_count": null,
   "metadata": {},
   "outputs": [],
   "source": []
  },
  {
   "cell_type": "code",
   "execution_count": 34,
   "metadata": {},
   "outputs": [],
   "source": [
    "# creat a function called clean_text thar accepts a string\n",
    "# and returns a string where  all speical characters are removed\n",
    "# all numbers of removed and all letters are lower case and only one space between words\n",
    "def clean_text(text):\n",
    "    import re\n",
    "    try:\n",
    "        return re.sub(\"[^A-z!!]+\", \" \", text).strip().lower()\n",
    "    except:\n",
    "        print(\"Error in input\",type(text))\n",
    "        \n",
    "    "
   ]
  },
  {
   "cell_type": "code",
   "execution_count": 35,
   "metadata": {},
   "outputs": [
    {
     "name": "stdout",
     "output_type": "stream",
     "text": [
      "the cat in the hat ^ _ known as the cat in the hat\n"
     ]
    }
   ],
   "source": [
    "print(clean_text(test_str))"
   ]
  },
  {
   "cell_type": "code",
   "execution_count": 36,
   "metadata": {},
   "outputs": [
    {
     "name": "stdout",
     "output_type": "stream",
     "text": [
      "Error in input <class 'int'>\n",
      "None\n"
     ]
    }
   ],
   "source": [
    "print(clean_text(123))"
   ]
  },
  {
   "cell_type": "code",
   "execution_count": 37,
   "metadata": {},
   "outputs": [],
   "source": [
    "test_str_a = \"qmss class rocks the free world\"\n",
    "# create a function called only stored tokens that have a length > 4 in a list from the input string\n",
    "def only_stored_tokens(text):\n",
    "    return [word for word in text.split() if len(word) > 4]\n",
    "\n"
   ]
  },
  {
   "cell_type": "code",
   "execution_count": 38,
   "metadata": {},
   "outputs": [
    {
     "name": "stdout",
     "output_type": "stream",
     "text": [
      "class\n",
      "rocks\n",
      "world\n"
     ]
    }
   ],
   "source": [
    "def only_stored_tokens(text):\n",
    "    for word in text.split():\n",
    "        if len(word) > 4:\n",
    "            print(word)\n",
    "\n",
    "only_stored_tokens(test_str_a)\n",
    "    "
   ]
  },
  {
   "cell_type": "code",
   "execution_count": 40,
   "metadata": {},
   "outputs": [
    {
     "name": "stdout",
     "output_type": "stream",
     "text": [
      "{'a': 4, 'c': 3, 'b': 1, 'd': 2}\n"
     ]
    }
   ],
   "source": [
    "test_str_b = \"a a b a c c d a c d\"\n",
    "the_w_f = dict()\n",
    "for i in set(test_str_b.split()):\n",
    "    the_w_f[i] = test_str_b.split().count(i)\n",
    "print(the_w_f)\n"
   ]
  },
  {
   "cell_type": "code",
   "execution_count": 44,
   "metadata": {},
   "outputs": [
    {
     "name": "stdout",
     "output_type": "stream",
     "text": [
      "{'a': 4, 'c': 3, 'b': 1, 'd': 2}\n"
     ]
    }
   ],
   "source": [
    "test_str_b = \"a a b a c c d a c d\"\n",
    "the_w_f = {word: test_str_b.split().count(word) for word in set(test_str_b.split())}\n",
    "print(the_w_f)"
   ]
  },
  {
   "cell_type": "code",
   "execution_count": 47,
   "metadata": {},
   "outputs": [
    {
     "name": "stdout",
     "output_type": "stream",
     "text": [
      "{'a': 4, 'b': 1, 'c': 3, 'd': 2}\n"
     ]
    }
   ],
   "source": [
    "import collections\n",
    "test_str_b = \"a a b a c c d a c d\"\n",
    "\n",
    "the_w_f = dict(collections.Counter(test_str_b.split()))\n",
    "print(the_w_f)"
   ]
  },
  {
   "cell_type": "code",
   "execution_count": 50,
   "metadata": {},
   "outputs": [
    {
     "name": "stdout",
     "output_type": "stream",
     "text": [
      "{'a': 4, 'b': 1, 'c': 3, 'd': 2}\n"
     ]
    }
   ],
   "source": [
    "\"\"\"\n",
    "\n",
    "create a function called word frequency that accepts a corpus, uses clean_text function, then outputs a dictionary of word frequency dictionary\n",
    "\n",
    "\"\"\"\n",
    "\n",
    "def word_frequency(corpus):\n",
    "    return dict(collections.Counter(clean_text(corpus).split()))\n",
    "\n",
    "print(word_frequency(test_str_b))"
   ]
  },
  {
   "cell_type": "code",
   "execution_count": 51,
   "metadata": {},
   "outputs": [
    {
     "name": "stdout",
     "output_type": "stream",
     "text": [
      "{'the': 5, 'cat': 4, 'chased': 1, 'other': 1, 'after': 1, 'stole': 1, 'hat': 1, 'from': 1}\n"
     ]
    }
   ],
   "source": [
    "the_ans = \"the caT chased the other cat after the cat stole the hat from the cat\"\n",
    "print(word_frequency(the_ans))"
   ]
  },
  {
   "cell_type": "code",
   "execution_count": 58,
   "metadata": {},
   "outputs": [
    {
     "name": "stdout",
     "output_type": "stream",
     "text": [
      "the cat chased the dog\n",
      "Axiao chased Jessi, but Jessi didn't like him.\n"
     ]
    }
   ],
   "source": [
    "the_path = \"/Users/JunyinLuo/Desktop/lec2_nlp.txt\"\n",
    "f = open(the_path, \"r\")\n",
    "temp = f.read()\n",
    "f.close()\n",
    "print(temp)\n"
   ]
  },
  {
   "cell_type": "code",
   "execution_count": 59,
   "metadata": {},
   "outputs": [
    {
     "name": "stdout",
     "output_type": "stream",
     "text": [
      "the cat chased the dog\n",
      "Axiao chased Jessi, but Jessi didn't like him.\n"
     ]
    }
   ],
   "source": [
    "with open(the_path, \"r\") as f:\n",
    "    temp = f.read()\n",
    "    print(temp)"
   ]
  },
  {
   "cell_type": "code",
   "execution_count": 60,
   "metadata": {},
   "outputs": [
    {
     "name": "stdout",
     "output_type": "stream",
     "text": [
      "the cat chased the dog\n",
      "\n",
      "Axiao chased Jessi, but Jessi didn't like him.\n"
     ]
    }
   ],
   "source": [
    "with open(the_path, \"r\") as f:\n",
    "    for line in f:\n",
    "        print(line)"
   ]
  },
  {
   "cell_type": "code",
   "execution_count": 63,
   "metadata": {},
   "outputs": [
    {
     "data": {
      "text/plain": [
       "'the cat chased the dog axiao chased jessi but jessi didn t like him'"
      ]
     },
     "execution_count": 63,
     "metadata": {},
     "output_type": "execute_result"
    }
   ],
   "source": [
    "# creat a function that accepts a path and file name. open the file, rertrieves the contents applies the clean_text function and returns the clean_text and outputs the results\n",
    "def open_clean_file(path, file_name):\n",
    "    with open(path + file_name, \"r\") as f:\n",
    "        return clean_text(f.read())\n",
    "open_clean_file(\"/Users/JunyinLuo/Desktop/\", \"lec2_nlp.txt\")"
   ]
  },
  {
   "cell_type": "code",
   "execution_count": 65,
   "metadata": {},
   "outputs": [],
   "source": [
    "def file_opener(path, file):\n",
    "    f = open(path + file, \"r\")\n",
    "    temp = f.read()\n",
    "    f.close()\n",
    "    temp_clean = clean_text(temp)\n",
    "    return temp_clean\n"
   ]
  },
  {
   "cell_type": "code",
   "execution_count": 69,
   "metadata": {},
   "outputs": [
    {
     "data": {
      "text/plain": [
       "'the cat chased the dog axiao chased jessi but jessi didn t like him'"
      ]
     },
     "execution_count": 69,
     "metadata": {},
     "output_type": "execute_result"
    }
   ],
   "source": [
    "file_opener(\"/Users/JunyinLuo/Desktop/\", \"lec2_nlp.txt\")"
   ]
  },
  {
   "cell_type": "code",
   "execution_count": null,
   "metadata": {},
   "outputs": [],
   "source": []
  }
 ],
 "metadata": {
  "kernelspec": {
   "display_name": "base",
   "language": "python",
   "name": "python3"
  },
  "language_info": {
   "codemirror_mode": {
    "name": "ipython",
    "version": 3
   },
   "file_extension": ".py",
   "mimetype": "text/x-python",
   "name": "python",
   "nbconvert_exporter": "python",
   "pygments_lexer": "ipython3",
   "version": "3.11.5"
  },
  "orig_nbformat": 4
 },
 "nbformat": 4,
 "nbformat_minor": 2
}
