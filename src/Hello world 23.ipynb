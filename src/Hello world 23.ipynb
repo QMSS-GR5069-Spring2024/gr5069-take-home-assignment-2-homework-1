{
 "cells": [
  {
   "cell_type": "markdown",
   "id": "c5ab1e64",
   "metadata": {},
   "source": []
  },
  {
   "attachments": {},
   "cell_type": "markdown",
   "id": "43f78d72",
   "metadata": {},
   "source": [
    "change-mj"
   ]
  },
  {
   "cell_type": "markdown",
   "id": "68ecd31f",
   "metadata": {},
   "source": [
    "why empty file"
   ]
  }
 ],
 "metadata": {
  "language_info": {
   "name": "python"
  }
 },
 "nbformat": 4,
 "nbformat_minor": 5
}
